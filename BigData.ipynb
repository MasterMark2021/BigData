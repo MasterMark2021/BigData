{
  "nbformat": 4,
  "nbformat_minor": 0,
  "metadata": {
    "colab": {
      "name": "BigData.ipynb",
      "provenance": [],
      "collapsed_sections": [],
      "authorship_tag": "ABX9TyNBRLPOCwaPq7D6Pms9NzLa",
      "include_colab_link": true
    },
    "kernelspec": {
      "name": "python3",
      "display_name": "Python 3"
    },
    "language_info": {
      "name": "python"
    }
  },
  "cells": [
    {
      "cell_type": "markdown",
      "metadata": {
        "id": "view-in-github",
        "colab_type": "text"
      },
      "source": [
        "<a href=\"https://colab.research.google.com/github/MasterMark2021/BigData/blob/main/BigData.ipynb\" target=\"_parent\"><img src=\"https://colab.research.google.com/assets/colab-badge.svg\" alt=\"Open In Colab\"/></a>"
      ]
    },
    {
      "cell_type": "code",
      "execution_count": 4,
      "metadata": {
        "colab": {
          "base_uri": "https://localhost:8080/"
        },
        "id": "gzpfMFW0IKrl",
        "outputId": "778f8e4d-f7e3-4613-cddf-afadc74d056b"
      },
      "outputs": [
        {
          "output_type": "stream",
          "name": "stdout",
          "text": [
            "\r0% [Working]\r            \rHit:1 https://cloud.r-project.org/bin/linux/ubuntu bionic-cran40/ InRelease\n",
            "\r0% [Waiting for headers] [Waiting for headers] [Waiting for headers] [Waiting f\r0% [1 InRelease gpgv 3,626 B] [Waiting for headers] [Waiting for headers] [Wait\r                                                                               \rIgn:2 https://developer.download.nvidia.com/compute/cuda/repos/ubuntu1804/x86_64  InRelease\n",
            "\r0% [1 InRelease gpgv 3,626 B] [Waiting for headers] [Waiting for headers] [Wait\r                                                                               \rHit:3 http://ppa.launchpad.net/c2d4u.team/c2d4u4.0+/ubuntu bionic InRelease\n",
            "\r0% [1 InRelease gpgv 3,626 B] [Waiting for headers] [Waiting for headers] [Conn\r                                                                               \rHit:4 http://archive.ubuntu.com/ubuntu bionic InRelease\n",
            "Hit:5 http://security.ubuntu.com/ubuntu bionic-security InRelease\n",
            "Ign:6 https://developer.download.nvidia.com/compute/machine-learning/repos/ubuntu1804/x86_64  InRelease\n",
            "Hit:7 https://developer.download.nvidia.com/compute/cuda/repos/ubuntu1804/x86_64  Release\n",
            "Hit:8 https://developer.download.nvidia.com/compute/machine-learning/repos/ubuntu1804/x86_64  Release\n",
            "Hit:9 http://archive.ubuntu.com/ubuntu bionic-updates InRelease\n",
            "Hit:10 http://ppa.launchpad.net/cran/libgit2/ubuntu bionic InRelease\n",
            "Hit:11 http://archive.ubuntu.com/ubuntu bionic-backports InRelease\n",
            "Hit:12 http://ppa.launchpad.net/deadsnakes/ppa/ubuntu bionic InRelease\n",
            "Hit:13 http://ppa.launchpad.net/graphics-drivers/ppa/ubuntu bionic InRelease\n",
            "Reading package lists... Done\n"
          ]
        }
      ],
      "source": [
        "import os\n",
        "# Find the latest version of spark 3.0  from http://www.apache.org/dist/spark/ and enter as the spark version\n",
        "# For example:\n",
        "# spark_version = 'spark-3.0.0'\n",
        "spark_version = 'spark-3.<enter version>'\n",
        "os.environ['SPARK_VERSION']=spark_version\n",
        "\n",
        "# Install Spark and Java\n",
        "!apt-get update\n",
        "!apt-get install openjdk-11-jdk-headless -qq > /dev/null\n",
        "!wget -q https://archive.apache.org/dist/spark/spark-3.0.0/spark-3.0.0-bin-hadoop3.2.tgz\n",
        "!tar xf spark-3.0.0-bin-hadoop3.2.tgz\n",
        "!pip install -q findspark\n",
        "\n",
        "# Set Environment Variables\n",
        "import os\n",
        "os.environ[\"JAVA_HOME\"] = \"/usr/lib/jvm/java-8-openjdk-amd64\"\n",
        "os.environ[\"SPARK_HOME\"] = \"/content/spark-3.0.0-bin-hadoop3.2\"\n",
        "\n",
        "# Start a SparkSession\n",
        "import findspark\n",
        "findspark.init()"
      ]
    },
    {
      "cell_type": "code",
      "source": [
        "pip install pyspark"
      ],
      "metadata": {
        "colab": {
          "base_uri": "https://localhost:8080/",
          "height": 349
        },
        "id": "NotPe9r6N57a",
        "outputId": "fb9ed656-4940-4e63-c2c2-91eda1233162"
      },
      "execution_count": 6,
      "outputs": [
        {
          "output_type": "stream",
          "name": "stdout",
          "text": [
            "Collecting pyspark\n",
            "  Downloading pyspark-3.2.1.tar.gz (281.4 MB)\n",
            "\u001b[K     |████████████████████████████████| 281.4 MB 33 kB/s \n",
            "\u001b[?25hCollecting py4j==0.10.9.3\n",
            "  Downloading py4j-0.10.9.3-py2.py3-none-any.whl (198 kB)\n",
            "\u001b[K     |████████████████████████████████| 198 kB 42.3 MB/s \n",
            "\u001b[?25hBuilding wheels for collected packages: pyspark\n",
            "  Building wheel for pyspark (setup.py) ... \u001b[?25l\u001b[?25hdone\n",
            "  Created wheel for pyspark: filename=pyspark-3.2.1-py2.py3-none-any.whl size=281853642 sha256=241cf40532f07353a4118fa7cd6d40bc72fa12fff6083c3e1dad1ed540734d2a\n",
            "  Stored in directory: /root/.cache/pip/wheels/9f/f5/07/7cd8017084dce4e93e84e92efd1e1d5334db05f2e83bcef74f\n",
            "Successfully built pyspark\n",
            "Installing collected packages: py4j, pyspark\n",
            "Successfully installed py4j-0.10.9.3 pyspark-3.2.1\n"
          ]
        },
        {
          "output_type": "display_data",
          "data": {
            "application/vnd.colab-display-data+json": {
              "pip_warning": {
                "packages": [
                  "py4j",
                  "pyspark"
                ]
              }
            }
          },
          "metadata": {}
        }
      ]
    },
    {
      "cell_type": "code",
      "source": [
        "# Start Spark session\n",
        "from pyspark.sql import SparkSession\n",
        "spark = SparkSession.builder.appName(\"DataFrameBasics\").getOrCreate()"
      ],
      "metadata": {
        "id": "Z9ISX2lvOe-c"
      },
      "execution_count": 1,
      "outputs": []
    },
    {
      "cell_type": "code",
      "source": [
        ""
      ],
      "metadata": {
        "id": "jybn1h-FUUOF"
      },
      "execution_count": null,
      "outputs": []
    },
    {
      "cell_type": "code",
      "source": [
        "dataframe = spark.createDataFrame([\n",
        "                                   (0, \"Here is our DataFrame\"),\n",
        "                                   (1, \"We are making one from scratch\"),\n",
        "                                   (2, \"This will look very similar to a Pandas DataFrame\")\n",
        "], [\"id\", \"words\"])\n",
        "\n",
        "dataframe.show()"
      ],
      "metadata": {
        "colab": {
          "base_uri": "https://localhost:8080/"
        },
        "id": "UzOQrakcO0YA",
        "outputId": "57426aa6-073e-442c-f15f-6a875952e9fa"
      },
      "execution_count": 3,
      "outputs": [
        {
          "output_type": "stream",
          "name": "stdout",
          "text": [
            "+---+--------------------+\n",
            "| id|               words|\n",
            "+---+--------------------+\n",
            "|  0|Here is our DataF...|\n",
            "|  1|We are making one...|\n",
            "|  2|This will look ve...|\n",
            "+---+--------------------+\n",
            "\n"
          ]
        }
      ]
    },
    {
      "cell_type": "code",
      "source": [
        "# Read in data from S3 Buckets\n",
        "from pyspark import SparkFiles\n",
        "url = \"https://s3.amazonaws.com/dataviz-curriculum/day_1/food.csv\"\n",
        "spark.sparkContext.addFile(url)\n",
        "df = spark.read.csv(SparkFiles.get(\"food.csv\"), sep=\",\", header=True)"
      ],
      "metadata": {
        "id": "qBmANF_GP8mg"
      },
      "execution_count": 4,
      "outputs": []
    },
    {
      "cell_type": "code",
      "source": [
        "df.show()"
      ],
      "metadata": {
        "colab": {
          "base_uri": "https://localhost:8080/"
        },
        "id": "0PgpkvvMQN9r",
        "outputId": "97a92bd6-a0d0-4051-a986-3adf66f613f7"
      },
      "execution_count": 6,
      "outputs": [
        {
          "output_type": "stream",
          "name": "stdout",
          "text": [
            "+-------+-----+\n",
            "|   food|price|\n",
            "+-------+-----+\n",
            "|  pizza|    0|\n",
            "|  sushi|   12|\n",
            "|chinese|   10|\n",
            "+-------+-----+\n",
            "\n"
          ]
        }
      ]
    },
    {
      "cell_type": "code",
      "source": [
        "# Print our schema\n",
        "df.printSchema()"
      ],
      "metadata": {
        "colab": {
          "base_uri": "https://localhost:8080/"
        },
        "id": "ok6EgPIRQbdU",
        "outputId": "55680ac9-a430-416f-8cc0-65890f0b062e"
      },
      "execution_count": 7,
      "outputs": [
        {
          "output_type": "stream",
          "name": "stdout",
          "text": [
            "root\n",
            " |-- food: string (nullable = true)\n",
            " |-- price: string (nullable = true)\n",
            "\n"
          ]
        }
      ]
    },
    {
      "cell_type": "code",
      "source": [
        "df.columns"
      ],
      "metadata": {
        "colab": {
          "base_uri": "https://localhost:8080/"
        },
        "id": "QZ-UFqR8Qh_g",
        "outputId": "996c4f09-35b8-43ea-c4a7-7ba04e3d386f"
      },
      "execution_count": 8,
      "outputs": [
        {
          "output_type": "execute_result",
          "data": {
            "text/plain": [
              "['food', 'price']"
            ]
          },
          "metadata": {},
          "execution_count": 8
        }
      ]
    },
    {
      "cell_type": "code",
      "source": [
        "df.describe"
      ],
      "metadata": {
        "colab": {
          "base_uri": "https://localhost:8080/"
        },
        "id": "jbijBdSSQs18",
        "outputId": "51e155cc-2875-49b2-a70d-305cec471d26"
      },
      "execution_count": 9,
      "outputs": [
        {
          "output_type": "execute_result",
          "data": {
            "text/plain": [
              "<bound method DataFrame.describe of DataFrame[food: string, price: string]>"
            ]
          },
          "metadata": {},
          "execution_count": 9
        }
      ]
    },
    {
      "cell_type": "code",
      "source": [
        "# Import struct fields that we can use\n",
        "from pyspark.sql.types import StructField, StringType, IntegerType, StructType"
      ],
      "metadata": {
        "id": "Pqve47ckQ4iP"
      },
      "execution_count": 10,
      "outputs": []
    },
    {
      "cell_type": "code",
      "source": [
        "# Next we need to create the list of struct fields\n",
        "schema = [StructField(\"food\", StringType(), True), StructField(\"price\", IntegerType(), True),]\n",
        "schema"
      ],
      "metadata": {
        "colab": {
          "base_uri": "https://localhost:8080/"
        },
        "id": "UNMR1XTfQ8f7",
        "outputId": "14d18107-05ca-4b58-e55c-2737eff9bc72"
      },
      "execution_count": 14,
      "outputs": [
        {
          "output_type": "execute_result",
          "data": {
            "text/plain": [
              "[StructField(food,StringType,true), StructField(price,IntegerType,true)]"
            ]
          },
          "metadata": {},
          "execution_count": 14
        }
      ]
    },
    {
      "cell_type": "code",
      "source": [
        "# Pass in our fields\n",
        "final = StructType(fields=schema)\n",
        "final"
      ],
      "metadata": {
        "colab": {
          "base_uri": "https://localhost:8080/"
        },
        "id": "61N6uSWzRUre",
        "outputId": "fe980a4f-a1fa-4ccc-a040-88d7bbe7bc56"
      },
      "execution_count": 15,
      "outputs": [
        {
          "output_type": "execute_result",
          "data": {
            "text/plain": [
              "StructType(List(StructField(food,StringType,true),StructField(price,IntegerType,true)))"
            ]
          },
          "metadata": {},
          "execution_count": 15
        }
      ]
    },
    {
      "cell_type": "code",
      "source": [
        "# Read our data with our new schema\n",
        "dataframe = spark.read.csv(SparkFiles.get(\"food.csv\"), schema=final, sep=\",\", header=True)\n",
        "dataframe.printSchema()"
      ],
      "metadata": {
        "colab": {
          "base_uri": "https://localhost:8080/"
        },
        "id": "9SJBM3JqRZZi",
        "outputId": "2bd9d991-b3a1-4613-a88c-edef728e5add"
      },
      "execution_count": 16,
      "outputs": [
        {
          "output_type": "stream",
          "name": "stdout",
          "text": [
            "root\n",
            " |-- food: string (nullable = true)\n",
            " |-- price: integer (nullable = true)\n",
            "\n"
          ]
        }
      ]
    },
    {
      "cell_type": "code",
      "source": [
        "# Add new column\n",
        "dataframe.withColumn('newprice', dataframe['price']).show()\n",
        "# Update column name\n",
        "dataframe.withColumnRenamed('price','newerprice').show()\n",
        "# Double the price\n",
        "dataframe.withColumn('doubleprice',dataframe['price']*2).show()\n",
        "# Add a dollar to the price\n",
        "dataframe.withColumn('add_one_dollar',dataframe['price']+1).show()\n",
        "# Half the price\n",
        "dataframe.withColumn('half_price',dataframe['price']/2).show()"
      ],
      "metadata": {
        "colab": {
          "base_uri": "https://localhost:8080/"
        },
        "id": "gthOxRqsRiGo",
        "outputId": "8d004c59-c815-4d92-f5de-b6e62b83d67e"
      },
      "execution_count": 17,
      "outputs": [
        {
          "output_type": "stream",
          "name": "stdout",
          "text": [
            "+-------+-----+--------+\n",
            "|   food|price|newprice|\n",
            "+-------+-----+--------+\n",
            "|  pizza|    0|       0|\n",
            "|  sushi|   12|      12|\n",
            "|chinese|   10|      10|\n",
            "+-------+-----+--------+\n",
            "\n",
            "+-------+----------+\n",
            "|   food|newerprice|\n",
            "+-------+----------+\n",
            "|  pizza|         0|\n",
            "|  sushi|        12|\n",
            "|chinese|        10|\n",
            "+-------+----------+\n",
            "\n",
            "+-------+-----+-----------+\n",
            "|   food|price|doubleprice|\n",
            "+-------+-----+-----------+\n",
            "|  pizza|    0|          0|\n",
            "|  sushi|   12|         24|\n",
            "|chinese|   10|         20|\n",
            "+-------+-----+-----------+\n",
            "\n",
            "+-------+-----+--------------+\n",
            "|   food|price|add_one_dollar|\n",
            "+-------+-----+--------------+\n",
            "|  pizza|    0|             1|\n",
            "|  sushi|   12|            13|\n",
            "|chinese|   10|            11|\n",
            "+-------+-----+--------------+\n",
            "\n",
            "+-------+-----+----------+\n",
            "|   food|price|half_price|\n",
            "+-------+-----+----------+\n",
            "|  pizza|    0|       0.0|\n",
            "|  sushi|   12|       6.0|\n",
            "|chinese|   10|       5.0|\n",
            "+-------+-----+----------+\n",
            "\n"
          ]
        }
      ]
    },
    {
      "cell_type": "code",
      "source": [
        "# Read in data from S3 Buckets\n",
        "from pyspark import SparkFiles\n",
        "url =\"https://s3.amazonaws.com/dataviz-curriculum/day_1/wine.csv\"\n",
        "spark.sparkContext.addFile(url)\n",
        "df = spark.read.csv(SparkFiles.get(\"wine.csv\"), sep=\",\", header=True)\n",
        "\n",
        "# Show DataFrame\n",
        "df.show()"
      ],
      "metadata": {
        "colab": {
          "base_uri": "https://localhost:8080/"
        },
        "id": "Yoyy2IJIUWJC",
        "outputId": "952a7133-4709-43b4-b69f-813b1e689afc"
      },
      "execution_count": 18,
      "outputs": [
        {
          "output_type": "stream",
          "name": "stdout",
          "text": [
            "+-------+--------------------+--------------------+------+-----+------------------+--------------------+-----------------+------------------+--------------------+\n",
            "|country|         description|         designation|points|price|          province|            region_1|         region_2|           variety|              winery|\n",
            "+-------+--------------------+--------------------+------+-----+------------------+--------------------+-----------------+------------------+--------------------+\n",
            "|     US|This tremendous 1...|   Martha's Vineyard|    96|  235|        California|         Napa Valley|             Napa|Cabernet Sauvignon|               Heitz|\n",
            "|  Spain|Ripe aromas of fi...|Carodorum Selecci...|    96|  110|    Northern Spain|                Toro|             null|     Tinta de Toro|Bodega Carmen Rod...|\n",
            "|     US|Mac Watson honors...|Special Selected ...|    96|   90|        California|      Knights Valley|           Sonoma|   Sauvignon Blanc|            Macauley|\n",
            "|     US|This spent 20 mon...|             Reserve|    96|   65|            Oregon|   Willamette Valley|Willamette Valley|        Pinot Noir|               Ponzi|\n",
            "| France|This is the top w...|         La Br��lade|    95|   66|          Provence|              Bandol|             null|Provence red blend|Domaine de la B̩gude|\n",
            "|  Spain|Deep, dense and p...|           Numanthia|    95|   73|    Northern Spain|                Toro|             null|     Tinta de Toro|           Numanthia|\n",
            "|  Spain|Slightly gritty b...|          San Rom��n|    95|   65|    Northern Spain|                Toro|             null|     Tinta de Toro|            Maurodos|\n",
            "|  Spain|Lush cedary black...|Carodorum �_nico ...|    95|  110|    Northern Spain|                Toro|             null|     Tinta de Toro|Bodega Carmen Rod...|\n",
            "|     US|This re-named vin...|              Silice|    95|   65|            Oregon|  Chehalem Mountains|Willamette Valley|        Pinot Noir|           Bergstr̦m|\n",
            "|     US|The producer sour...|Gap's Crown Vineyard|    95|   60|        California|        Sonoma Coast|           Sonoma|        Pinot Noir|           Blue Farm|\n",
            "|  Italy|Elegance, complex...|  Ronco della Chiesa|    95|   80|Northeastern Italy|              Collio|             null|          Friulano|    Borgo del Tiglio|\n",
            "|     US|From 18-year-old ...|Estate Vineyard W...|    95|   48|            Oregon|        Ribbon Ridge|Willamette Valley|        Pinot Noir|Patricia Green Ce...|\n",
            "|     US|A standout even i...|      Weber Vineyard|    95|   48|            Oregon|        Dundee Hills|Willamette Valley|        Pinot Noir|Patricia Green Ce...|\n",
            "| France|This wine is in p...|Ch̢teau Montus Pr...|    95|   90|  Southwest France|             Madiran|             null|            Tannat|   Vignobles Brumont|\n",
            "|     US|With its sophisti...|      Grace Vineyard|    95|  185|            Oregon|        Dundee Hills|Willamette Valley|        Pinot Noir|      Domaine Serene|\n",
            "|     US|First made in 200...|              Sigrid|    95|   90|            Oregon|   Willamette Valley|Willamette Valley|        Chardonnay|           Bergstr̦m|\n",
            "|     US|This blockbuster,...|     Rainin Vineyard|    95|  325|        California|Diamond Mountain ...|             Napa|Cabernet Sauvignon|                Hall|\n",
            "|  Spain|Nicely oaked blac...|6 A̱os Reserva Pr...|    95|   80|    Northern Spain|    Ribera del Duero|             null|       Tempranillo|            Valduero|\n",
            "| France|Coming from a sev...|       Le Pigeonnier|    95|  290|  Southwest France|              Cahors|             null|            Malbec|  Ch̢teau Lagr̩zette|\n",
            "|     US|This fresh and li...|Gap's Crown Vineyard|    95|   75|        California|        Sonoma Coast|           Sonoma|        Pinot Noir|        Gary Farrell|\n",
            "+-------+--------------------+--------------------+------+-----+------------------+--------------------+-----------------+------------------+--------------------+\n",
            "only showing top 20 rows\n",
            "\n"
          ]
        }
      ]
    },
    {
      "cell_type": "code",
      "source": [
        "# Order a DataFrame by ascending values\n",
        "df.orderBy(df[\"points\"].desc())"
      ],
      "metadata": {
        "colab": {
          "base_uri": "https://localhost:8080/"
        },
        "id": "YG9HdBmEUlpB",
        "outputId": "b2176403-9166-452d-bd03-9f44bdb8023e"
      },
      "execution_count": 19,
      "outputs": [
        {
          "output_type": "execute_result",
          "data": {
            "text/plain": [
              "DataFrame[country: string, description: string, designation: string, points: string, price: string, province: string, region_1: string, region_2: string, variety: string, winery: string]"
            ]
          },
          "metadata": {},
          "execution_count": 19
        }
      ]
    },
    {
      "cell_type": "code",
      "source": [
        "df.orderBy(df[\"points\"].desc()).show(50)"
      ],
      "metadata": {
        "colab": {
          "base_uri": "https://localhost:8080/"
        },
        "id": "wAHgam66U9LJ",
        "outputId": "dacb5bcd-162e-4d51-f2f0-54be7ca79a9e"
      },
      "execution_count": 22,
      "outputs": [
        {
          "output_type": "stream",
          "name": "stdout",
          "text": [
            "+--------+--------------------+--------------------+------+-----+------------+--------------------+---------------+--------------------+--------------------+\n",
            "| country|         description|         designation|points|price|    province|            region_1|       region_2|             variety|              winery|\n",
            "+--------+--------------------+--------------------+------+-----+------------+--------------------+---------------+--------------------+--------------------+\n",
            "|  France|98-100 Barrel sam...|       Barrel sample|    99| null|    Bordeaux|           Sauternes|           null|Bordeaux-style Wh...|     Ch̢teau d'Yquem|\n",
            "|Portugal|This is the lates...|         Barca Velha|    99|  426|       Douro|                null|           null|      Portuguese Red|    Casa Ferreirinha|\n",
            "|   Italy|The 2007 Ornellai...|           Ornellaia|    99|  200|     Tuscany|  Bolgheri Superiore|           null|           Red Blend|Tenuta dell'Ornel...|\n",
            "|      US|A stupendous Pino...|Precious Mountain...|    99|   94|  California|        Sonoma Coast|         Sonoma|          Pinot Noir|     Williams Selyem|\n",
            "|   Italy|This sweet wine f...|   Occhio di Pernice|    99|  237|     Tuscany|Vin Santo di Mont...|           null|    Prugnolo Gentile|          Avignonesi|\n",
            "|   Italy|Always a standout...|   Sor�� San Lorenzo|    99|  440|    Piedmont|              Langhe|           null|            Nebbiolo|                Gaja|\n",
            "|   Italy|Here's a ���wow�۝...|            Messorio|    99|  320|     Tuscany|             Toscana|           null|              Merlot|        Le Macchiole|\n",
            "|  France|A magnificent Cha...|Dom P̩rignon Oeno...|    99|  385|   Champagne|           Champagne|           null|     Champagne Blend|     Mo��t & Chandon|\n",
            "|      US|In a vintage that...|En Chamberlin Vin...|    99|   75|      Oregon|Walla Walla Valle...|   Oregon Other|               Syrah|              Cayuse|\n",
            "|  France|98-100 Barrel sam...|       Barrel sample|    99| null|    Bordeaux|             Margaux|           null|Bordeaux-style Re...|      Ch̢teau Palmer|\n",
            "|  France|A big, powerful w...|                null|    99| 2300|    Bordeaux|            Pauillac|           null|Bordeaux-style Re...|      Ch̢teau Latour|\n",
            "|      US|Depth and texture...|Royal City Stoner...|    99|  140|  Washington|Columbia Valley (WA)|Columbia Valley|               Syrah|       Charles Smith|\n",
            "|  France|Dense and rich bu...|         La Landonne|    99|  450|Rh̫ne Valley|          C̫te R̫tie|           null|               Syrah|           E. Guigal|\n",
            "|   Italy|This is an elegan...|       Sor�� Tild��n|    99|  440|    Piedmont|              Langhe|           null|            Nebbiolo|                Gaja|\n",
            "|      US|This is an absolu...|           IX Estate|    99|  290|  California|         Napa Valley|           Napa|           Red Blend|              Colgin|\n",
            "|      US|Depth and texture...|Royal City Stoner...|    99|  140|  Washington|Columbia Valley (WA)|Columbia Valley|               Syrah|       Charles Smith|\n",
            "|   Italy|The 2007 Ornellai...|           Ornellaia|    99|  200|     Tuscany|  Bolgheri Superiore|           null|           Red Blend|Tenuta dell'Ornel...|\n",
            "|   Italy|Here's a ���wow�۝...|            Messorio|    99|  320|     Tuscany|             Toscana|           null|              Merlot|        Le Macchiole|\n",
            "|      US|There are incredi...|Elevation 1147 Es...|    99|  150|  California|         Napa Valley|           Napa|  Cabernet Sauvignon|        David Arthur|\n",
            "|      US|This expresses th...|     Hirsch Vineyard|    99|   75|  California|        Sonoma Coast|         Sonoma|          Pinot Noir|     Williams Selyem|\n",
            "|   Italy|One of Italy's mo...|           Sassicaia|    99|  235|     Tuscany|  Bolgheri Sassicaia|           null|           Red Blend|    Tenuta San Guido|\n",
            "|      US|The only one of t...|   Cailloux Vineyard|    99|   65|      Oregon|Walla Walla Valle...|   Oregon Other|               Syrah|              Cayuse|\n",
            "|  France|98-100 Barrel sam...|       Barrel sample|    99| null|    Bordeaux|           Sauternes|           null|Bordeaux-style Wh...|     Ch̢teau d'Yquem|\n",
            "|  France|98-100 Barrel sam...|       Barrel sample|    99| null|    Bordeaux|            Pauillac|           null|Bordeaux-style Re...|Ch̢teau Pontet-Canet|\n",
            "|      US|The only one of t...|   Cailloux Vineyard|    99|   65|      Oregon|Walla Walla Valle...|   Oregon Other|               Syrah|              Cayuse|\n",
            "|  France|98-100 Barrel sam...|       Barrel sample|    99| null|    Bordeaux|             Margaux|           null|Bordeaux-style Re...|      Ch̢teau Palmer|\n",
            "|      US|Depth and texture...|Royal City Stoner...|    99|  140|  Washington|Columbia Valley (WA)|Columbia Valley|               Syrah|       Charles Smith|\n",
            "|   Italy|Even better than ...|             Masseto|    99|  250|     Tuscany|             Toscana|           null|              Merlot|Tenuta dell'Ornel...|\n",
            "|   Italy|Here's a ���wow�۝...|            Messorio|    99|  320|     Tuscany|             Toscana|           null|              Merlot|        Le Macchiole|\n",
            "|      US|The flagship wine...|                null|    99|  125|  Washington|Columbia Valley (WA)|Columbia Valley|  Cabernet Sauvignon|      Quilceda Creek|\n",
            "|   Italy|The 2007 Ornellai...|           Ornellaia|    99|  200|     Tuscany|  Bolgheri Superiore|           null|           Red Blend|Tenuta dell'Ornel...|\n",
            "|  France|A magnificent Cha...|Dom P̩rignon Oeno...|    99|  385|   Champagne|           Champagne|           null|     Champagne Blend|     Mo��t & Chandon|\n",
            "|   Italy|This sweet wine f...|   Occhio di Pernice|    99|  237|     Tuscany|Vin Santo di Mont...|           null|    Prugnolo Gentile|          Avignonesi|\n",
            "|      US|The only one of t...|   Cailloux Vineyard|    99|   65|      Oregon|Walla Walla Valle...|   Oregon Other|               Syrah|              Cayuse|\n",
            "|      US|This is nearly pe...|             Reserve|    99|  100|  California|  Oak Knoll District|           Napa|  Cabernet Sauvignon|           Trefethen|\n",
            "|  France|98-100 Barrel sam...|       Barrel sample|    99| null|    Bordeaux|            Pauillac|           null|Bordeaux-style Re...|Ch̢teau Pontet-Canet|\n",
            "|   Italy|Even better than ...|             Masseto|    99|  250|     Tuscany|             Toscana|           null|              Merlot|Tenuta dell'Ornel...|\n",
            "|   Italy|Perfumed berry, r...|Madonna delle Grazie|    99|  200|     Tuscany|Brunello di Monta...|           null|          Sangiovese|        Il Marroneto|\n",
            "|  France|98-100 Barrel sam...|       Barrel sample|    99| null|    Bordeaux|             Margaux|           null|Bordeaux-style Re...|      Ch̢teau Palmer|\n",
            "|  France|Dense and rich bu...|         La Landonne|    99|  450|Rh̫ne Valley|          C̫te R̫tie|           null|               Syrah|           E. Guigal|\n",
            "|  France|98-100 Barrel sam...|       Barrel sample|    99| null|    Bordeaux|           Sauternes|           null|Bordeaux-style Wh...|     Ch̢teau d'Yquem|\n",
            "|   Italy|Elegant and compl...|          Monprivato|    99|  175|    Piedmont|              Barolo|           null|            Nebbiolo|Mascarello Giusep...|\n",
            "|  France|98-100 Barrel sam...|       Barrel sample|    99| null|    Bordeaux|            Pauillac|           null|Bordeaux-style Re...|Ch̢teau Pontet-Canet|\n",
            "|      US|The aroma is deep...|                null|    99|  245|  California|         Napa Valley|           Napa|      Cabernet Blend|       Harlan Estate|\n",
            "|  France|Dense and rich bu...|         La Landonne|    99|  450|Rh̫ne Valley|          C̫te R̫tie|           null|               Syrah|           E. Guigal|\n",
            "|  France|A magnificent Cha...|Dom P̩rignon Oeno...|    99|  385|   Champagne|           Champagne|           null|     Champagne Blend|     Mo��t & Chandon|\n",
            "|  France|98-100 Barrel Sam...|       Barrel sample|    99| null|    Bordeaux|            Pauillac|           null|Bordeaux-style Re...|      Ch̢teau Latour|\n",
            "|   Italy|This sweet wine f...|   Occhio di Pernice|    99|  237|     Tuscany|Vin Santo di Mont...|           null|    Prugnolo Gentile|          Avignonesi|\n",
            "|      US|The aroma is deep...|                null|    99|  245|  California|         Napa Valley|           Napa|      Cabernet Blend|       Harlan Estate|\n",
            "|      US|This is Cabernet ...|            Rockfall|    99|   75|  California|    Alexander Valley|         Sonoma|  Cabernet Sauvignon|         Stonestreet|\n",
            "+--------+--------------------+--------------------+------+-----+------------+--------------------+---------------+--------------------+--------------------+\n",
            "only showing top 50 rows\n",
            "\n"
          ]
        }
      ]
    },
    {
      "cell_type": "code",
      "source": [
        "#Import functions\n",
        "from pyspark.sql.functions import avg\n",
        "df.select(avg(\"points\")).show()"
      ],
      "metadata": {
        "colab": {
          "base_uri": "https://localhost:8080/"
        },
        "id": "yH_zBz9xVmxG",
        "outputId": "57291779-06da-454e-aa8b-d771fc51fc48"
      },
      "execution_count": 23,
      "outputs": [
        {
          "output_type": "stream",
          "name": "stdout",
          "text": [
            "+-----------------+\n",
            "|      avg(points)|\n",
            "+-----------------+\n",
            "|87.88834105383143|\n",
            "+-----------------+\n",
            "\n"
          ]
        }
      ]
    },
    {
      "cell_type": "code",
      "source": [
        "#Filter\n",
        "df.filter(\"price>20\").show(60)"
      ],
      "metadata": {
        "colab": {
          "base_uri": "https://localhost:8080/"
        },
        "id": "dbE3p3DJV5Hn",
        "outputId": "ef180c3c-8c0b-4e2b-dad2-adea1f492a7f"
      },
      "execution_count": 26,
      "outputs": [
        {
          "output_type": "stream",
          "name": "stdout",
          "text": [
            "+-----------+--------------------+--------------------+------+-----+------------------+--------------------+-----------------+--------------------+--------------------+\n",
            "|    country|         description|         designation|points|price|          province|            region_1|         region_2|             variety|              winery|\n",
            "+-----------+--------------------+--------------------+------+-----+------------------+--------------------+-----------------+--------------------+--------------------+\n",
            "|         US|This tremendous 1...|   Martha's Vineyard|    96|  235|        California|         Napa Valley|             Napa|  Cabernet Sauvignon|               Heitz|\n",
            "|      Spain|Ripe aromas of fi...|Carodorum Selecci...|    96|  110|    Northern Spain|                Toro|             null|       Tinta de Toro|Bodega Carmen Rod...|\n",
            "|         US|Mac Watson honors...|Special Selected ...|    96|   90|        California|      Knights Valley|           Sonoma|     Sauvignon Blanc|            Macauley|\n",
            "|         US|This spent 20 mon...|             Reserve|    96|   65|            Oregon|   Willamette Valley|Willamette Valley|          Pinot Noir|               Ponzi|\n",
            "|     France|This is the top w...|         La Br��lade|    95|   66|          Provence|              Bandol|             null|  Provence red blend|Domaine de la B̩gude|\n",
            "|      Spain|Deep, dense and p...|           Numanthia|    95|   73|    Northern Spain|                Toro|             null|       Tinta de Toro|           Numanthia|\n",
            "|      Spain|Slightly gritty b...|          San Rom��n|    95|   65|    Northern Spain|                Toro|             null|       Tinta de Toro|            Maurodos|\n",
            "|      Spain|Lush cedary black...|Carodorum �_nico ...|    95|  110|    Northern Spain|                Toro|             null|       Tinta de Toro|Bodega Carmen Rod...|\n",
            "|         US|This re-named vin...|              Silice|    95|   65|            Oregon|  Chehalem Mountains|Willamette Valley|          Pinot Noir|           Bergstr̦m|\n",
            "|         US|The producer sour...|Gap's Crown Vineyard|    95|   60|        California|        Sonoma Coast|           Sonoma|          Pinot Noir|           Blue Farm|\n",
            "|      Italy|Elegance, complex...|  Ronco della Chiesa|    95|   80|Northeastern Italy|              Collio|             null|            Friulano|    Borgo del Tiglio|\n",
            "|         US|From 18-year-old ...|Estate Vineyard W...|    95|   48|            Oregon|        Ribbon Ridge|Willamette Valley|          Pinot Noir|Patricia Green Ce...|\n",
            "|         US|A standout even i...|      Weber Vineyard|    95|   48|            Oregon|        Dundee Hills|Willamette Valley|          Pinot Noir|Patricia Green Ce...|\n",
            "|     France|This wine is in p...|Ch̢teau Montus Pr...|    95|   90|  Southwest France|             Madiran|             null|              Tannat|   Vignobles Brumont|\n",
            "|         US|With its sophisti...|      Grace Vineyard|    95|  185|            Oregon|        Dundee Hills|Willamette Valley|          Pinot Noir|      Domaine Serene|\n",
            "|         US|First made in 200...|              Sigrid|    95|   90|            Oregon|   Willamette Valley|Willamette Valley|          Chardonnay|           Bergstr̦m|\n",
            "|         US|This blockbuster,...|     Rainin Vineyard|    95|  325|        California|Diamond Mountain ...|             Napa|  Cabernet Sauvignon|                Hall|\n",
            "|      Spain|Nicely oaked blac...|6 A̱os Reserva Pr...|    95|   80|    Northern Spain|    Ribera del Duero|             null|         Tempranillo|            Valduero|\n",
            "|     France|Coming from a sev...|       Le Pigeonnier|    95|  290|  Southwest France|              Cahors|             null|              Malbec|  Ch̢teau Lagr̩zette|\n",
            "|         US|This fresh and li...|Gap's Crown Vineyard|    95|   75|        California|        Sonoma Coast|           Sonoma|          Pinot Noir|        Gary Farrell|\n",
            "|         US|Heitz has made th...|          Grignolino|    95|   24|        California|         Napa Valley|             Napa|                Ros̩|               Heitz|\n",
            "|      Spain|Alluring, complex...|Prado Enea Gran R...|    95|   79|    Northern Spain|               Rioja|             null|   Tempranillo Blend|                Muga|\n",
            "|      Spain|Tarry blackberry ...|          Termanthia|    95|  220|    Northern Spain|                Toro|             null|       Tinta de Toro|           Numanthia|\n",
            "|         US|The apogee of thi...|       Giallo Solare|    95|   60|        California|         Edna Valley|    Central Coast|          Chardonnay|    Center of Effort|\n",
            "|         US|San Jose-based pr...|       R-Bar-R Ranch|    95|   45|        California|Santa Cruz Mountains|    Central Coast|          Pinot Noir|            Comartin|\n",
            "|New Zealand|Yields were down ...|     Mat̩'s Vineyard|    94|   57|             Kumeu|                null|             null|          Chardonnay|         Kumeu River|\n",
            "|         US|Bergstr̦m has mad...|       Shea Vineyard|    94|   62|            Oregon|   Willamette Valley|             null|          Pinot Noir|           Bergstr̦m|\n",
            "|         US|Focused and dense...|             Abetina|    94|  105|            Oregon|   Willamette Valley|Willamette Valley|          Pinot Noir|               Ponzi|\n",
            "|         US|Cranberry, baked ...|     Garys' Vineyard|    94|   60|        California|Santa Lucia Highl...|    Central Coast|          Pinot Noir|                Roar|\n",
            "|         US|This standout Roc...|     The Funk Estate|    94|   60|        Washington|Walla Walla Valle...|  Columbia Valley|               Syrah|              Saviah|\n",
            "|         US|Steely and perfum...|            Babushka|    90|   37|        California|Russian River Valley|           Sonoma|          Chardonnay|            Zepaltas|\n",
            "|     France|Pale in color, th...|Nonpareil Tr̩sor ...|    90|   22|      France Other|        Vin Mousseux|             null|     Sparkling Blend|      Bouvet-Ladubay|\n",
            "|         US|The aromas entice...| Conner Lee Vineyard|    90|   42|        Washington|Columbia Valley (WA)|  Columbia Valley|          Chardonnay|                Buty|\n",
            "|      Italy|Forest floor, til...|             Riserva|    90|  135|           Tuscany|Brunello di Monta...|             null|          Sangiovese|            Carillon|\n",
            "|     France|Gingery spice not...|                null|    90|   60|      Rh̫ne Valley| Ch̢teauneuf-du-Pape|             null|Rh̫ne-style White...|Clos de L'Oratoir...|\n",
            "|      Italy|Aromas of forest ...|                null|    90|   29|           Tuscany|Vino Nobile di Mo...|             null|          Sangiovese|          Avignonesi|\n",
            "|      Italy|This has a charmi...|                null|    90|   23|           Tuscany|    Chianti Classico|             null|          Sangiovese|    Casina di Cornia|\n",
            "|      Italy|This bright, savo...|             Riserva|    90|   29|           Tuscany|    Chianti Classico|             null|           Red Blend|Castello di Monte...|\n",
            "|      Spain|This comes across...|Alfonso Oloroso Seco|    90|   26|         Andalucia|               Jerez|             null|            Palomino|     Gonz��lez Byass|\n",
            "|         US|This is an aromat...|     Private Reserve|    90|   55|             Idaho|                null|             null|        Petite Sirah|              Huston|\n",
            "|      Italy|Aromas of dark-sk...|             Riserva|    90|   39|           Tuscany|    Chianti Classico|             null|           Red Blend|             Rignana|\n",
            "|     France|Dark in color and...|             Coteaux|    90|   69|      Rh̫ne Valley|              Cornas|             null|               Syrah|     Tardieu-Laurent|\n",
            "|      Italy|A blend of 90% Sa...|Vigneto Odoardo B...|    90|   30|           Tuscany|    Chianti Classico|             null|           Red Blend|        Vignavecchia|\n",
            "|      Italy|Sunbaked earth, r...|    Poggio alle Mura|    90|   90|           Tuscany|Brunello di Monta...|             null|          Sangiovese|               Banfi|\n",
            "|         US|Blended with 9% M...|        Estate Grown|    90|   60|        California|        Mount Veeder|             Napa|  Cabernet Sauvignon|            Brandlin|\n",
            "|      Italy|Ripe dark-skinned...|                null|    90|   50|           Tuscany|Brunello di Monta...|             null|          Sangiovese|  Brunelli Martoccia|\n",
            "|         US|The aromas of blu...|                null|    90|   40|        Washington|        Red Mountain|  Columbia Valley|  Cabernet Sauvignon|          Canvasback|\n",
            "|      Italy|This robust red o...|             Riserva|    90|  100|           Tuscany|Brunello di Monta...|             null|          Sangiovese|       Capanne Ricci|\n",
            "|     France|This structured, ...|                null|    90|   68|          Burgundy|Chassagne-Montrachet|             null|          Chardonnay|Chartron et Tr̩bu...|\n",
            "|     France|This ripe, full-b...|        Les 7 Hommes|    90|   42|      Loire Valley|            Sancerre|             null|     Sauvignon Blanc|     Cherrier Fr̬res|\n",
            "|     France|With its light co...|            L'In̩dit|    90|   28|      Loire Valley| Coteaux du Giennois|             null|          Pinot Noir|Clement et Floria...|\n",
            "|         US|A blend of Cabern...|          Four Flags|    90|   69|        Washington|        Red Mountain|  Columbia Valley|  Cabernet Sauvignon|             DeLille|\n",
            "|         US|While exuberantly...|             Reserve|    90|   25|          New York|        Finger Lakes|     Finger Lakes|            Riesling|Dr. Konstantin Frank|\n",
            "|         US|Cabernet makes up...|         Final Final|    90|   30|        Washington|Columbia Valley (WA)|  Columbia Valley|Cabernet Sauvigno...|              Efeste|\n",
            "|      Italy|This savory blend...|     Poggio Bestiale|    90|   60|           Tuscany|     Maremma Toscana|             null|           Red Blend|Fattoria di Magliano|\n",
            "|  Argentina|Concentrated, rip...|The Apple Doesn't...|    91|   30|  Mendoza Province|             Mendoza|             null|              Malbec|   Matias Riccitelli|\n",
            "|  Australia|Moorooduc's estat...|                null|    91|   36|          Victoria|Mornington Peninsula|             null|          Pinot Noir|           Moorooduc|\n",
            "|  Argentina|Smoky aromas of f...|Alegor�_a Gran Re...|    91|   25|  Mendoza Province|             Mendoza|             null|              Malbec|     Navarro Correas|\n",
            "|     France|L'Homme Mort is a...|L'Homme Mort Prem...|    91|   45|          Burgundy|             Chablis|             null|          Chardonnay| Domaine Chenevi̬res|\n",
            "|   Portugal|This is a super-r...|                null|    91|   23|        Alentejano|                null|             null|      Portuguese Red|    Herdade do Rocim|\n",
            "+-----------+--------------------+--------------------+------+-----+------------------+--------------------+-----------------+--------------------+--------------------+\n",
            "only showing top 60 rows\n",
            "\n"
          ]
        }
      ]
    },
    {
      "cell_type": "code",
      "source": [
        "#Filter\n",
        "df.filter(\"price>20\").select(['points','country','winery','price']).show(20)\n"
      ],
      "metadata": {
        "colab": {
          "base_uri": "https://localhost:8080/"
        },
        "id": "q_9VwKVfWUbw",
        "outputId": "d3135106-30d7-4366-aa54-b9d9e136bcc9"
      },
      "execution_count": 28,
      "outputs": [
        {
          "output_type": "stream",
          "name": "stdout",
          "text": [
            "+------+-------+--------------------+-----+\n",
            "|points|country|              winery|price|\n",
            "+------+-------+--------------------+-----+\n",
            "|    96|     US|               Heitz|  235|\n",
            "|    96|  Spain|Bodega Carmen Rod...|  110|\n",
            "|    96|     US|            Macauley|   90|\n",
            "|    96|     US|               Ponzi|   65|\n",
            "|    95| France|Domaine de la B̩gude|   66|\n",
            "|    95|  Spain|           Numanthia|   73|\n",
            "|    95|  Spain|            Maurodos|   65|\n",
            "|    95|  Spain|Bodega Carmen Rod...|  110|\n",
            "|    95|     US|           Bergstr̦m|   65|\n",
            "|    95|     US|           Blue Farm|   60|\n",
            "|    95|  Italy|    Borgo del Tiglio|   80|\n",
            "|    95|     US|Patricia Green Ce...|   48|\n",
            "|    95|     US|Patricia Green Ce...|   48|\n",
            "|    95| France|   Vignobles Brumont|   90|\n",
            "|    95|     US|      Domaine Serene|  185|\n",
            "|    95|     US|           Bergstr̦m|   90|\n",
            "|    95|     US|                Hall|  325|\n",
            "|    95|  Spain|            Valduero|   80|\n",
            "|    95| France|  Ch̢teau Lagr̩zette|  290|\n",
            "|    95|     US|        Gary Farrell|   75|\n",
            "+------+-------+--------------------+-----+\n",
            "only showing top 20 rows\n",
            "\n"
          ]
        }
      ]
    }
  ]
}